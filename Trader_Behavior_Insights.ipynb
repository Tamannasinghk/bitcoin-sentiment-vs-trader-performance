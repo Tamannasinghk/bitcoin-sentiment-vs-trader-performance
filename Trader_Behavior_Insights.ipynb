{
  "nbformat": 4,
  "nbformat_minor": 0,
  "metadata": {
    "colab": {
      "provenance": [],
      "gpuType": "T4"
    },
    "kernelspec": {
      "name": "python3",
      "display_name": "Python 3"
    },
    "language_info": {
      "name": "python"
    },
    "accelerator": "GPU"
  },
  "cells": [
    {
      "cell_type": "markdown",
      "source": [
        "##Importing Libraries and Loading the Data"
      ],
      "metadata": {
        "id": "jLnY7YIz3Ogz"
      }
    },
    {
      "cell_type": "code",
      "source": [
        "import pandas as pd\n",
        "import numpy as np\n",
        "import matplotlib.pyplot as plt\n",
        "import seaborn as sns\n",
        "\n",
        "# Loading the datasets\n",
        "sentiment_df = pd.read_csv('fear_greed_index.csv')\n",
        "trader_df = pd.read_csv('historical_data.csv')"
      ],
      "metadata": {
        "id": "-KXYvONj9ev6"
      },
      "execution_count": 43,
      "outputs": []
    },
    {
      "cell_type": "code",
      "source": [
        "print(trader_df.head())\n"
      ],
      "metadata": {
        "colab": {
          "base_uri": "https://localhost:8080/"
        },
        "id": "rHnyZUB1An_m",
        "outputId": "7543294c-c5f3-4e6a-ed5a-69040130d517"
      },
      "execution_count": 44,
      "outputs": [
        {
          "output_type": "stream",
          "name": "stdout",
          "text": [
            "                                      Account  Coin  Execution Price  \\\n",
            "0  0xae5eacaf9c6b9111fd53034a602c192a04e082ed  @107           7.9769   \n",
            "1  0xae5eacaf9c6b9111fd53034a602c192a04e082ed  @107           7.9800   \n",
            "2  0xae5eacaf9c6b9111fd53034a602c192a04e082ed  @107           7.9855   \n",
            "3  0xae5eacaf9c6b9111fd53034a602c192a04e082ed  @107           7.9874   \n",
            "4  0xae5eacaf9c6b9111fd53034a602c192a04e082ed  @107           7.9894   \n",
            "\n",
            "   Size Tokens  Size USD Side     Timestamp IST  Start Position Direction  \\\n",
            "0       986.87   7872.16  BUY  02-12-2024 22:50        0.000000       Buy   \n",
            "1        16.00    127.68  BUY  02-12-2024 22:50      986.524596       Buy   \n",
            "2       144.09   1150.63  BUY  02-12-2024 22:50     1002.518996       Buy   \n",
            "3       142.98   1142.04  BUY  02-12-2024 22:50     1146.558564       Buy   \n",
            "4         8.73     69.75  BUY  02-12-2024 22:50     1289.488521       Buy   \n",
            "\n",
            "   Closed PnL                                   Transaction Hash     Order ID  \\\n",
            "0         0.0  0xec09451986a1874e3a980418412fcd0201f500c95bac...  52017706630   \n",
            "1         0.0  0xec09451986a1874e3a980418412fcd0201f500c95bac...  52017706630   \n",
            "2         0.0  0xec09451986a1874e3a980418412fcd0201f500c95bac...  52017706630   \n",
            "3         0.0  0xec09451986a1874e3a980418412fcd0201f500c95bac...  52017706630   \n",
            "4         0.0  0xec09451986a1874e3a980418412fcd0201f500c95bac...  52017706630   \n",
            "\n",
            "   Crossed       Fee      Trade ID     Timestamp  \n",
            "0     True  0.345404  8.950000e+14  1.730000e+12  \n",
            "1     True  0.005600  4.430000e+14  1.730000e+12  \n",
            "2     True  0.050431  6.600000e+14  1.730000e+12  \n",
            "3     True  0.050043  1.080000e+15  1.730000e+12  \n",
            "4     True  0.003055  1.050000e+15  1.730000e+12  \n"
          ]
        }
      ]
    },
    {
      "cell_type": "code",
      "source": [
        "print(sentiment_df.head())"
      ],
      "metadata": {
        "colab": {
          "base_uri": "https://localhost:8080/"
        },
        "id": "gds2KFeNAj-K",
        "outputId": "36b0caf1-aed5-4af0-c339-c1fc3f5194aa"
      },
      "execution_count": 45,
      "outputs": [
        {
          "output_type": "stream",
          "name": "stdout",
          "text": [
            "    timestamp  value classification        date\n",
            "0  1517463000     30           Fear  2018-02-01\n",
            "1  1517549400     15   Extreme Fear  2018-02-02\n",
            "2  1517635800     40           Fear  2018-02-03\n",
            "3  1517722200     24   Extreme Fear  2018-02-04\n",
            "4  1517808600     11   Extreme Fear  2018-02-05\n"
          ]
        }
      ]
    },
    {
      "cell_type": "markdown",
      "source": [
        "## Clean and Prepare Sentiment Data"
      ],
      "metadata": {
        "id": "45Qj2qceA13O"
      }
    },
    {
      "cell_type": "code",
      "source": [
        "# Keep only relevant columns\n",
        "sentiment_df = sentiment_df[['date', 'value', 'sentiment']].copy()\n",
        "\n",
        "# Convert date column to datetime format\n",
        "sentiment_df['date'] = pd.to_datetime(sentiment_df['date'])\n"
      ],
      "metadata": {
        "colab": {
          "base_uri": "https://localhost:8080/"
        },
        "id": "EC7fqPMuAxcq",
        "outputId": "4c97c017-0275-4120-8155-8130b6a7bf54"
      },
      "execution_count": 49,
      "outputs": [
        {
          "output_type": "stream",
          "name": "stdout",
          "text": [
            "Cleaned sentiment data preview:\n",
            "        date  value     sentiment\n",
            "0 2018-02-01     30          Fear\n",
            "1 2018-02-02     15  Extreme Fear\n",
            "2 2018-02-03     40          Fear\n",
            "3 2018-02-04     24  Extreme Fear\n",
            "4 2018-02-05     11  Extreme Fear\n"
          ]
        }
      ]
    },
    {
      "cell_type": "code",
      "source": [
        "print(\"Cleaned sentiment data\")\n",
        "print(sentiment_df.head())"
      ],
      "metadata": {
        "colab": {
          "base_uri": "https://localhost:8080/"
        },
        "id": "poprZM6FBGdC",
        "outputId": "06a093e4-c1a5-41bc-ccbf-c179dad14c4e"
      },
      "execution_count": 51,
      "outputs": [
        {
          "output_type": "stream",
          "name": "stdout",
          "text": [
            "Cleaned sentiment data\n",
            "        date  value     sentiment\n",
            "0 2018-02-01     30          Fear\n",
            "1 2018-02-02     15  Extreme Fear\n",
            "2 2018-02-03     40          Fear\n",
            "3 2018-02-04     24  Extreme Fear\n",
            "4 2018-02-05     11  Extreme Fear\n"
          ]
        }
      ]
    },
    {
      "cell_type": "code",
      "source": [
        "# Converting Timestamp column to datetime\n",
        "trader_df['Timestamp'] = pd.to_datetime(trader_df['Timestamp'], unit='ms', errors='coerce')\n",
        "\n",
        "# Extracting date only from timestamp\n",
        "trader_df['date'] = trader_df['Timestamp'].dt.date\n",
        "\n",
        "# converting date column to datetime format\n",
        "trader_df['date'] = pd.to_datetime(trader_df['date'])\n",
        "\n",
        "print(trader_df[['Timestamp', 'date']].head())\n"
      ],
      "metadata": {
        "colab": {
          "base_uri": "https://localhost:8080/"
        },
        "id": "POeqsIGzBoYO",
        "outputId": "23b7d1f5-e186-4574-a27b-7dfc981bff9b"
      },
      "execution_count": 53,
      "outputs": [
        {
          "output_type": "stream",
          "name": "stdout",
          "text": [
            "            Timestamp       date\n",
            "0 2024-10-27 03:33:20 2024-10-27\n",
            "1 2024-10-27 03:33:20 2024-10-27\n",
            "2 2024-10-27 03:33:20 2024-10-27\n",
            "3 2024-10-27 03:33:20 2024-10-27\n",
            "4 2024-10-27 03:33:20 2024-10-27\n"
          ]
        }
      ]
    },
    {
      "cell_type": "code",
      "source": [
        "merged_df = pd.merge(trader_df, sentiment_df, on='date', how='inner')\n",
        "print(\"Merged data preview:\")\n",
        "print(merged_df.head())\n"
      ],
      "metadata": {
        "colab": {
          "base_uri": "https://localhost:8080/"
        },
        "id": "WSWB7gEYCaoU",
        "outputId": "fdf16ba6-c7e9-4e7b-be45-fe4ba12ab65d"
      },
      "execution_count": 54,
      "outputs": [
        {
          "output_type": "stream",
          "name": "stdout",
          "text": [
            "Merged data preview:\n",
            "                                      Account  Coin  Execution Price  \\\n",
            "0  0xae5eacaf9c6b9111fd53034a602c192a04e082ed  @107           7.9769   \n",
            "1  0xae5eacaf9c6b9111fd53034a602c192a04e082ed  @107           7.9800   \n",
            "2  0xae5eacaf9c6b9111fd53034a602c192a04e082ed  @107           7.9855   \n",
            "3  0xae5eacaf9c6b9111fd53034a602c192a04e082ed  @107           7.9874   \n",
            "4  0xae5eacaf9c6b9111fd53034a602c192a04e082ed  @107           7.9894   \n",
            "\n",
            "   Size Tokens  Size USD Side     Timestamp IST  Start Position Direction  \\\n",
            "0       986.87   7872.16  BUY  02-12-2024 22:50        0.000000       Buy   \n",
            "1        16.00    127.68  BUY  02-12-2024 22:50      986.524596       Buy   \n",
            "2       144.09   1150.63  BUY  02-12-2024 22:50     1002.518996       Buy   \n",
            "3       142.98   1142.04  BUY  02-12-2024 22:50     1146.558564       Buy   \n",
            "4         8.73     69.75  BUY  02-12-2024 22:50     1289.488521       Buy   \n",
            "\n",
            "   Closed PnL                                   Transaction Hash     Order ID  \\\n",
            "0         0.0  0xec09451986a1874e3a980418412fcd0201f500c95bac...  52017706630   \n",
            "1         0.0  0xec09451986a1874e3a980418412fcd0201f500c95bac...  52017706630   \n",
            "2         0.0  0xec09451986a1874e3a980418412fcd0201f500c95bac...  52017706630   \n",
            "3         0.0  0xec09451986a1874e3a980418412fcd0201f500c95bac...  52017706630   \n",
            "4         0.0  0xec09451986a1874e3a980418412fcd0201f500c95bac...  52017706630   \n",
            "\n",
            "   Crossed       Fee      Trade ID           Timestamp       date  value  \\\n",
            "0     True  0.345404  8.950000e+14 2024-10-27 03:33:20 2024-10-27     74   \n",
            "1     True  0.005600  4.430000e+14 2024-10-27 03:33:20 2024-10-27     74   \n",
            "2     True  0.050431  6.600000e+14 2024-10-27 03:33:20 2024-10-27     74   \n",
            "3     True  0.050043  1.080000e+15 2024-10-27 03:33:20 2024-10-27     74   \n",
            "4     True  0.003055  1.050000e+15 2024-10-27 03:33:20 2024-10-27     74   \n",
            "\n",
            "  sentiment  \n",
            "0     Greed  \n",
            "1     Greed  \n",
            "2     Greed  \n",
            "3     Greed  \n",
            "4     Greed  \n"
          ]
        }
      ]
    },
    {
      "cell_type": "markdown",
      "source": [
        "##correlation between sentiment and trader performance"
      ],
      "metadata": {
        "id": "u3vp36DaCsv4"
      }
    },
    {
      "cell_type": "code",
      "source": [
        "correlation = merged_df['value'].corr(merged_df['Closed PnL'])\n",
        "\n",
        "print(f\"Correlation between Sentiment Value and Trader Closed PnL: {correlation:.4f}\")\n"
      ],
      "metadata": {
        "colab": {
          "base_uri": "https://localhost:8080/"
        },
        "id": "P1-5wZJICuRE",
        "outputId": "3f841287-5d5b-4b4d-d236-ee3e9498708f"
      },
      "execution_count": 55,
      "outputs": [
        {
          "output_type": "stream",
          "name": "stdout",
          "text": [
            "Correlation between Sentiment Value and Trader Closed PnL: 0.0111\n"
          ]
        }
      ]
    },
    {
      "cell_type": "code",
      "source": [
        "import matplotlib.pyplot as plt\n",
        "import seaborn as sns\n",
        "\n",
        "plt.figure(figsize=(8, 6))\n",
        "sns.scatterplot(data=merged_df, x='value', y='Closed PnL', hue='sentiment')\n",
        "plt.title(\"Sentiment Value vs Closed PnL\")\n",
        "plt.xlabel(\"Sentiment Value\")\n",
        "plt.ylabel(\"Closed PnL\")\n",
        "plt.grid(True)\n",
        "plt.show()\n"
      ],
      "metadata": {
        "colab": {
          "base_uri": "https://localhost:8080/",
          "height": 564
        },
        "id": "1qA23ZLACzry",
        "outputId": "f1fdd87d-4d7d-4f8d-82b3-a6346f5a1209"
      },
      "execution_count": 56,
      "outputs": [
        {
          "output_type": "display_data",
          "data": {
            "text/plain": [
              "<Figure size 800x600 with 1 Axes>"
            ],
            "image/png": "[encoded data removed]"
          },
          "metadata": {}
        }
      ]
    },
    {
      "cell_type": "markdown",
      "source": [
        "## Analyzing average PnL per sentiment category"
      ],
      "metadata": {
        "id": "pZ23mvOsC_oa"
      }
    },
    {
      "cell_type": "code",
      "source": [
        "# Group by sentiment and calculate mean Closed PnL\n",
        "sentiment_pnl = merged_df.groupby('sentiment')['Closed PnL'].mean().reset_index()\n",
        "\n",
        "print(\"Average Closed PnL per Sentiment:\")\n",
        "print(sentiment_pnl)\n"
      ],
      "metadata": {
        "colab": {
          "base_uri": "https://localhost:8080/"
        },
        "id": "Qi2V4aatDDT_",
        "outputId": "6e1d6a0e-8ff2-4e5b-a29e-f153bd1a3355"
      },
      "execution_count": 57,
      "outputs": [
        {
          "output_type": "stream",
          "name": "stdout",
          "text": [
            "Average Closed PnL per Sentiment:\n",
            "       sentiment  Closed PnL\n",
            "0  Extreme Greed   25.418772\n",
            "1           Fear   50.047622\n",
            "2          Greed   87.894859\n",
            "3        Neutral   22.229713\n"
          ]
        }
      ]
    },
    {
      "cell_type": "code",
      "source": [
        "plt.figure(figsize=(8, 5))\n",
        "sns.barplot(data=sentiment_pnl, x='sentiment', y='Closed PnL', palette='viridis')\n",
        "plt.title(\"Average Trader PnL by Sentiment\")\n",
        "plt.ylabel(\"Average Closed PnL\")\n",
        "plt.xlabel(\"Sentiment Type\")\n",
        "plt.xticks(rotation=45)\n",
        "plt.grid(True)\n",
        "plt.tight_layout()\n",
        "plt.show()\n"
      ],
      "metadata": {
        "colab": {
          "base_uri": "https://localhost:8080/",
          "height": 594
        },
        "id": "W-qwM06lDHmY",
        "outputId": "aa0c7530-26cd-4c8f-fdc8-19b6a7b5e371"
      },
      "execution_count": 58,
      "outputs": [
        {
          "output_type": "stream",
          "name": "stderr",
          "text": [
            "<ipython-input-58-8d67d9f9ea77>:2: FutureWarning: \n",
            "\n",
            "Passing `palette` without assigning `hue` is deprecated and will be removed in v0.14.0. Assign the `x` variable to `hue` and set `legend=False` for the same effect.\n",
            "\n",
            "  sns.barplot(data=sentiment_pnl, x='sentiment', y='Closed PnL', palette='viridis')\n"
          ]
        },
        {
          "output_type": "display_data",
          "data": {
            "text/plain": [
              "<Figure size 800x500 with 1 Axes>"
            ],
            "image/png": "[encoded data removed]"
          },
          "metadata": {}
        }
      ]
    },
    {
      "cell_type": "markdown",
      "source": [
        "## **Summary**"
      ],
      "metadata": {
        "id": "Mu1llm8zDUyI"
      }
    },
    {
      "cell_type": "code",
      "source": [
        "# Calculate overall correlation again just for reference\n",
        "correlation = merged_df['value'].corr(merged_df['Closed PnL'])\n",
        "\n",
        "# Summary\n",
        "print(\"Summary of Findings:\")\n",
        "print(f\"The correlation between Fear Greed Index value and traders Closed PnL is: {correlation:.4f}\")\n",
        "print(\"Average PnL per sentiment category shows how the trader performs under different market emotions\")\n",
        "print(\"This can help identify if the trader does better during Extreme Fear, Greed, or Neutral phases\")\n",
        "print(\"The insights can guide strategy adjustment depending on market sentiment\")\n"
      ],
      "metadata": {
        "colab": {
          "base_uri": "https://localhost:8080/"
        },
        "id": "mPUvlHh4DYBt",
        "outputId": "1998d3e5-4d22-4d5f-d646-fe416635d8bc"
      },
      "execution_count": 59,
      "outputs": [
        {
          "output_type": "stream",
          "name": "stdout",
          "text": [
            "Summary of Findings:\n",
            "The correlation between Fear Greed Index value and traders Closed PnL is: 0.0111\n",
            "Average PnL per sentiment category shows how the trader performs under different market emotions\n",
            "This can help identify if the trader does better during Extreme Fear, Greed, or Neutral phases\n",
            "The insights can guide strategy adjustment depending on market sentiment\n"
          ]
        }
      ]
    },
    {
      "cell_type": "code",
      "source": [
        "sentiment_pnl.to_csv(\"average_pnl_by_sentiment.csv\", index=False)\n",
        "merged_df.to_csv(\"merged_trader_sentiment_data.csv\", index=False)\n"
      ],
      "metadata": {
        "id": "oJRrM3SqDrfg"
      },
      "execution_count": 60,
      "outputs": []
    },
    {
      "cell_type": "code",
      "source": [],
      "metadata": {
        "id": "9SX9wjoSDxcV"
      },
      "execution_count": null,
      "outputs": []
    }
  ]
}